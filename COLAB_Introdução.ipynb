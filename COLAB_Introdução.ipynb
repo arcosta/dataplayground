{
  "nbformat": 4,
  "nbformat_minor": 0,
  "metadata": {
    "colab": {
      "provenance": [],
      "authorship_tag": "ABX9TyMYfOZ/7dPFAffIXaU3brgK",
      "include_colab_link": true
    },
    "kernelspec": {
      "name": "python3",
      "display_name": "Python 3"
    },
    "language_info": {
      "name": "python"
    }
  },
  "cells": [
    {
      "cell_type": "markdown",
      "metadata": {
        "id": "view-in-github",
        "colab_type": "text"
      },
      "source": [
        "<a href=\"https://colab.research.google.com/github/arcosta/dataplayground/blob/master/COLAB_Introdu%C3%A7%C3%A3o.ipynb\" target=\"_parent\"><img src=\"https://colab.research.google.com/assets/colab-badge.svg\" alt=\"Open In Colab\"/></a>"
      ]
    },
    {
      "cell_type": "markdown",
      "source": [
        "## Execício de Treinamento Supervisionado\n",
        "\n",
        "Neste exercício vamos treinar um classificador para reconhecer a função ímpar. Essa função retorna 1 caso o número de entrada seja ímpar e zero caso contrário.\n",
        "\n"
      ],
      "metadata": {
        "id": "6d9bbzpDZhWh"
      }
    },
    {
      "cell_type": "code",
      "execution_count": null,
      "metadata": {
        "id": "k2hvjqdz7Qya"
      },
      "outputs": [],
      "source": [
        "import matplotlib.pyplot as plt"
      ]
    },
    {
      "cell_type": "markdown",
      "source": [
        "## Funções auxiliares de rotulação _y_ e de codificação _encode_"
      ],
      "metadata": {
        "id": "-2c-EyxtBAtU"
      }
    },
    {
      "cell_type": "code",
      "source": [
        "# Função par, retorna 1 caso a entrada seja impar\n",
        "y = lambda x: x%2\n",
        "\n",
        "# Codificação da\n",
        "encode = lambda x: list(\"{:0>10s}\".format(bin(x)[2:]))"
      ],
      "metadata": {
        "id": "XTVISQxeZ2KF"
      },
      "execution_count": null,
      "outputs": []
    },
    {
      "cell_type": "markdown",
      "source": [
        "Criamos o nosso vetor de casos de entrada _x_"
      ],
      "metadata": {
        "id": "yosAsg2kBPhq"
      }
    },
    {
      "cell_type": "code",
      "source": [
        "x = list([(i,x) for i,x in enumerate(range(500))])\n",
        "#x = list([(i, encode(x)) for i,x in enumerate(range(500))])\n",
        "print(x)"
      ],
      "metadata": {
        "id": "GY2HKBWGsSZF"
      },
      "execution_count": null,
      "outputs": []
    },
    {
      "cell_type": "markdown",
      "source": [
        "Criamos nosso vetor alvo real, baseado na função _y_"
      ],
      "metadata": {
        "id": "5LkQVkkaBzeT"
      }
    },
    {
      "cell_type": "code",
      "source": [
        "y_real = list([y(i[0]) for i in x])"
      ],
      "metadata": {
        "id": "XaNEX9SCs8aX"
      },
      "execution_count": null,
      "outputs": []
    },
    {
      "cell_type": "code",
      "source": [
        "print(y_real)"
      ],
      "metadata": {
        "id": "Qcv6fxLfsaDv"
      },
      "execution_count": null,
      "outputs": []
    },
    {
      "cell_type": "code",
      "source": [
        "plt.figure(figsize=(20,6))\n",
        "plt.plot(y_real[0:10])"
      ],
      "metadata": {
        "id": "3LXpHJU0tJ_3"
      },
      "execution_count": null,
      "outputs": []
    },
    {
      "cell_type": "code",
      "source": [
        "from sklearn.neural_network import MLPClassifier\n",
        "from sklearn.naive_bayes import GaussianNB\n",
        "from sklearn.model_selection import train_test_split\n",
        "import numpy as np"
      ],
      "metadata": {
        "id": "iZaWIXrJtYB3"
      },
      "execution_count": null,
      "outputs": []
    },
    {
      "cell_type": "markdown",
      "source": [
        "Conversão das entradas nos tipos que a biblioteca espera"
      ],
      "metadata": {
        "id": "8zNaxtEzB-E2"
      }
    },
    {
      "cell_type": "code",
      "source": [
        "x = np.array([x for i,x in x], dtype=int)\n",
        "x = x.reshape(-1,1)\n",
        "y_real = np.array(y_real)"
      ],
      "metadata": {
        "id": "DtHandENutxG"
      },
      "execution_count": null,
      "outputs": []
    },
    {
      "cell_type": "code",
      "source": [
        "print(x.shape)\n",
        "i=15\n",
        "print(x[i],y_real[i])"
      ],
      "metadata": {
        "id": "MbDrUqR1y9by"
      },
      "execution_count": null,
      "outputs": []
    },
    {
      "cell_type": "code",
      "source": [
        "X_train, X_test, y_train, y_test = train_test_split(x, y_real, test_size=0.2)"
      ],
      "metadata": {
        "id": "DTBywzwStvgx"
      },
      "execution_count": null,
      "outputs": []
    },
    {
      "cell_type": "code",
      "source": [
        "\n",
        "classificador = GaussianNB() # MLPClassifier()\n",
        "classificador.fit(X_train, y_train)"
      ],
      "metadata": {
        "id": "aQWPKmczt58h"
      },
      "execution_count": null,
      "outputs": []
    },
    {
      "cell_type": "code",
      "source": [
        "classificador.predict(X_test)"
      ],
      "metadata": {
        "id": "sbRuJ4ZsuDlM"
      },
      "execution_count": null,
      "outputs": []
    },
    {
      "cell_type": "code",
      "source": [
        "print(y_real)"
      ],
      "metadata": {
        "id": "kiLm7HFTzQs8"
      },
      "execution_count": null,
      "outputs": []
    },
    {
      "cell_type": "code",
      "source": [
        "classificador.score(X_test, y_test)"
      ],
      "metadata": {
        "id": "DhHw2CFYuL4F"
      },
      "execution_count": null,
      "outputs": []
    }
  ]
}